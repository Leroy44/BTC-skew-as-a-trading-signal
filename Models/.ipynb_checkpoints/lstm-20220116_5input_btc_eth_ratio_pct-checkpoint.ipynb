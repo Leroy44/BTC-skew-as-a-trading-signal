{
 "cells": [
  {
   "cell_type": "code",
   "execution_count": 85,
   "metadata": {},
   "outputs": [],
   "source": [
    "import json\n",
    "import pandas as pd\n",
    "import datetime\n",
    "import numpy as np\n",
    "from pathlib import Path\n",
    "import hvplot.pandas\n",
    "import matplotlib.pyplot as plt\n",
    "from sklearn.preprocessing import StandardScaler\n",
    "import tensorflow as tf\n",
    "from tensorflow.keras.models import Sequential\n",
    "from tensorflow.keras.layers import LSTM, Dense, Dropout\n",
    "from sklearn.metrics import classification_report\n"
   ]
  },
  {
   "cell_type": "code",
   "execution_count": 86,
   "metadata": {},
   "outputs": [],
   "source": [
    "np.random.seed(12345)\n",
    "tf.random.set_seed(12345)"
   ]
  },
  {
   "cell_type": "code",
   "execution_count": 87,
   "metadata": {},
   "outputs": [],
   "source": [
    "# Import csv files from github\n",
    "\n",
    "url = 'https://raw.githubusercontent.com/Leroy44/BTC-skew-as-a-trading-signal/main/Data/all_data.csv'\n"
   ]
  },
  {
   "cell_type": "code",
   "execution_count": 88,
   "metadata": {},
   "outputs": [
    {
     "data": {
      "text/html": [
       "<div>\n",
       "<style scoped>\n",
       "    .dataframe tbody tr th:only-of-type {\n",
       "        vertical-align: middle;\n",
       "    }\n",
       "\n",
       "    .dataframe tbody tr th {\n",
       "        vertical-align: top;\n",
       "    }\n",
       "\n",
       "    .dataframe thead th {\n",
       "        text-align: right;\n",
       "    }\n",
       "</style>\n",
       "<table border=\"1\" class=\"dataframe\">\n",
       "  <thead>\n",
       "    <tr style=\"text-align: right;\">\n",
       "      <th></th>\n",
       "      <th>btc_close</th>\n",
       "      <th>btc_volume</th>\n",
       "      <th>eth_close</th>\n",
       "      <th>eth_volume</th>\n",
       "      <th>dxy_close</th>\n",
       "      <th>dxy_volume</th>\n",
       "      <th>es_close</th>\n",
       "      <th>es_volume</th>\n",
       "      <th>gc_close</th>\n",
       "      <th>gc_volume</th>\n",
       "      <th>...</th>\n",
       "      <th>eth_fiveDelta90DayExp</th>\n",
       "      <th>eth_thirtyFiveDelta180DayExp</th>\n",
       "      <th>eth_twentyFiveDelta180DayExp</th>\n",
       "      <th>eth_fifteenDelta180DayExp</th>\n",
       "      <th>eth_fiveDelta180DayExp</th>\n",
       "      <th>eth_atm7</th>\n",
       "      <th>eth_atm30</th>\n",
       "      <th>eth_atm60</th>\n",
       "      <th>eth_atm90</th>\n",
       "      <th>eth_atm180</th>\n",
       "    </tr>\n",
       "    <tr>\n",
       "      <th>date</th>\n",
       "      <th></th>\n",
       "      <th></th>\n",
       "      <th></th>\n",
       "      <th></th>\n",
       "      <th></th>\n",
       "      <th></th>\n",
       "      <th></th>\n",
       "      <th></th>\n",
       "      <th></th>\n",
       "      <th></th>\n",
       "      <th></th>\n",
       "      <th></th>\n",
       "      <th></th>\n",
       "      <th></th>\n",
       "      <th></th>\n",
       "      <th></th>\n",
       "      <th></th>\n",
       "      <th></th>\n",
       "      <th></th>\n",
       "      <th></th>\n",
       "      <th></th>\n",
       "    </tr>\n",
       "  </thead>\n",
       "  <tbody>\n",
       "    <tr>\n",
       "      <th>2005-09-06 16:00:00</th>\n",
       "      <td>NaN</td>\n",
       "      <td>NaN</td>\n",
       "      <td>NaN</td>\n",
       "      <td>NaN</td>\n",
       "      <td>NaN</td>\n",
       "      <td>NaN</td>\n",
       "      <td>1103.25</td>\n",
       "      <td>1711.0</td>\n",
       "      <td>NaN</td>\n",
       "      <td>NaN</td>\n",
       "      <td>...</td>\n",
       "      <td>NaN</td>\n",
       "      <td>NaN</td>\n",
       "      <td>NaN</td>\n",
       "      <td>NaN</td>\n",
       "      <td>NaN</td>\n",
       "      <td>NaN</td>\n",
       "      <td>NaN</td>\n",
       "      <td>NaN</td>\n",
       "      <td>NaN</td>\n",
       "      <td>NaN</td>\n",
       "    </tr>\n",
       "    <tr>\n",
       "      <th>2005-09-06 17:00:00</th>\n",
       "      <td>NaN</td>\n",
       "      <td>NaN</td>\n",
       "      <td>NaN</td>\n",
       "      <td>NaN</td>\n",
       "      <td>NaN</td>\n",
       "      <td>NaN</td>\n",
       "      <td>1103.25</td>\n",
       "      <td>744.0</td>\n",
       "      <td>NaN</td>\n",
       "      <td>NaN</td>\n",
       "      <td>...</td>\n",
       "      <td>NaN</td>\n",
       "      <td>NaN</td>\n",
       "      <td>NaN</td>\n",
       "      <td>NaN</td>\n",
       "      <td>NaN</td>\n",
       "      <td>NaN</td>\n",
       "      <td>NaN</td>\n",
       "      <td>NaN</td>\n",
       "      <td>NaN</td>\n",
       "      <td>NaN</td>\n",
       "    </tr>\n",
       "    <tr>\n",
       "      <th>2005-09-06 18:00:00</th>\n",
       "      <td>NaN</td>\n",
       "      <td>NaN</td>\n",
       "      <td>NaN</td>\n",
       "      <td>NaN</td>\n",
       "      <td>NaN</td>\n",
       "      <td>NaN</td>\n",
       "      <td>1103.00</td>\n",
       "      <td>395.0</td>\n",
       "      <td>NaN</td>\n",
       "      <td>NaN</td>\n",
       "      <td>...</td>\n",
       "      <td>NaN</td>\n",
       "      <td>NaN</td>\n",
       "      <td>NaN</td>\n",
       "      <td>NaN</td>\n",
       "      <td>NaN</td>\n",
       "      <td>NaN</td>\n",
       "      <td>NaN</td>\n",
       "      <td>NaN</td>\n",
       "      <td>NaN</td>\n",
       "      <td>NaN</td>\n",
       "    </tr>\n",
       "    <tr>\n",
       "      <th>2005-09-06 19:00:00</th>\n",
       "      <td>NaN</td>\n",
       "      <td>NaN</td>\n",
       "      <td>NaN</td>\n",
       "      <td>NaN</td>\n",
       "      <td>NaN</td>\n",
       "      <td>NaN</td>\n",
       "      <td>1102.75</td>\n",
       "      <td>280.0</td>\n",
       "      <td>NaN</td>\n",
       "      <td>NaN</td>\n",
       "      <td>...</td>\n",
       "      <td>NaN</td>\n",
       "      <td>NaN</td>\n",
       "      <td>NaN</td>\n",
       "      <td>NaN</td>\n",
       "      <td>NaN</td>\n",
       "      <td>NaN</td>\n",
       "      <td>NaN</td>\n",
       "      <td>NaN</td>\n",
       "      <td>NaN</td>\n",
       "      <td>NaN</td>\n",
       "    </tr>\n",
       "    <tr>\n",
       "      <th>2005-09-06 20:00:00</th>\n",
       "      <td>NaN</td>\n",
       "      <td>NaN</td>\n",
       "      <td>NaN</td>\n",
       "      <td>NaN</td>\n",
       "      <td>NaN</td>\n",
       "      <td>NaN</td>\n",
       "      <td>1102.75</td>\n",
       "      <td>370.0</td>\n",
       "      <td>NaN</td>\n",
       "      <td>NaN</td>\n",
       "      <td>...</td>\n",
       "      <td>NaN</td>\n",
       "      <td>NaN</td>\n",
       "      <td>NaN</td>\n",
       "      <td>NaN</td>\n",
       "      <td>NaN</td>\n",
       "      <td>NaN</td>\n",
       "      <td>NaN</td>\n",
       "      <td>NaN</td>\n",
       "      <td>NaN</td>\n",
       "      <td>NaN</td>\n",
       "    </tr>\n",
       "    <tr>\n",
       "      <th>...</th>\n",
       "      <td>...</td>\n",
       "      <td>...</td>\n",
       "      <td>...</td>\n",
       "      <td>...</td>\n",
       "      <td>...</td>\n",
       "      <td>...</td>\n",
       "      <td>...</td>\n",
       "      <td>...</td>\n",
       "      <td>...</td>\n",
       "      <td>...</td>\n",
       "      <td>...</td>\n",
       "      <td>...</td>\n",
       "      <td>...</td>\n",
       "      <td>...</td>\n",
       "      <td>...</td>\n",
       "      <td>...</td>\n",
       "      <td>...</td>\n",
       "      <td>...</td>\n",
       "      <td>...</td>\n",
       "      <td>...</td>\n",
       "      <td>...</td>\n",
       "    </tr>\n",
       "    <tr>\n",
       "      <th>2022-01-05 15:00:00</th>\n",
       "      <td>NaN</td>\n",
       "      <td>NaN</td>\n",
       "      <td>NaN</td>\n",
       "      <td>NaN</td>\n",
       "      <td>NaN</td>\n",
       "      <td>NaN</td>\n",
       "      <td>NaN</td>\n",
       "      <td>NaN</td>\n",
       "      <td>NaN</td>\n",
       "      <td>NaN</td>\n",
       "      <td>...</td>\n",
       "      <td>10.11</td>\n",
       "      <td>0.74</td>\n",
       "      <td>2.07</td>\n",
       "      <td>4.32</td>\n",
       "      <td>11.95</td>\n",
       "      <td>79.68</td>\n",
       "      <td>81.17</td>\n",
       "      <td>82.22</td>\n",
       "      <td>82.75</td>\n",
       "      <td>82.95</td>\n",
       "    </tr>\n",
       "    <tr>\n",
       "      <th>2022-01-05 16:00:00</th>\n",
       "      <td>NaN</td>\n",
       "      <td>NaN</td>\n",
       "      <td>NaN</td>\n",
       "      <td>NaN</td>\n",
       "      <td>NaN</td>\n",
       "      <td>NaN</td>\n",
       "      <td>NaN</td>\n",
       "      <td>NaN</td>\n",
       "      <td>NaN</td>\n",
       "      <td>NaN</td>\n",
       "      <td>...</td>\n",
       "      <td>10.14</td>\n",
       "      <td>0.76</td>\n",
       "      <td>2.28</td>\n",
       "      <td>4.52</td>\n",
       "      <td>11.61</td>\n",
       "      <td>81.92</td>\n",
       "      <td>82.05</td>\n",
       "      <td>82.83</td>\n",
       "      <td>83.31</td>\n",
       "      <td>83.31</td>\n",
       "    </tr>\n",
       "    <tr>\n",
       "      <th>2022-01-05 17:00:00</th>\n",
       "      <td>NaN</td>\n",
       "      <td>NaN</td>\n",
       "      <td>NaN</td>\n",
       "      <td>NaN</td>\n",
       "      <td>NaN</td>\n",
       "      <td>NaN</td>\n",
       "      <td>NaN</td>\n",
       "      <td>NaN</td>\n",
       "      <td>NaN</td>\n",
       "      <td>NaN</td>\n",
       "      <td>...</td>\n",
       "      <td>10.32</td>\n",
       "      <td>1.25</td>\n",
       "      <td>2.96</td>\n",
       "      <td>5.42</td>\n",
       "      <td>11.56</td>\n",
       "      <td>82.99</td>\n",
       "      <td>82.74</td>\n",
       "      <td>83.16</td>\n",
       "      <td>83.15</td>\n",
       "      <td>83.42</td>\n",
       "    </tr>\n",
       "    <tr>\n",
       "      <th>2022-01-05 18:00:00</th>\n",
       "      <td>NaN</td>\n",
       "      <td>NaN</td>\n",
       "      <td>NaN</td>\n",
       "      <td>NaN</td>\n",
       "      <td>NaN</td>\n",
       "      <td>NaN</td>\n",
       "      <td>NaN</td>\n",
       "      <td>NaN</td>\n",
       "      <td>NaN</td>\n",
       "      <td>NaN</td>\n",
       "      <td>...</td>\n",
       "      <td>10.73</td>\n",
       "      <td>1.23</td>\n",
       "      <td>2.93</td>\n",
       "      <td>5.17</td>\n",
       "      <td>10.75</td>\n",
       "      <td>79.90</td>\n",
       "      <td>81.10</td>\n",
       "      <td>82.23</td>\n",
       "      <td>82.70</td>\n",
       "      <td>83.30</td>\n",
       "    </tr>\n",
       "    <tr>\n",
       "      <th>2022-01-05 19:00:00</th>\n",
       "      <td>NaN</td>\n",
       "      <td>NaN</td>\n",
       "      <td>NaN</td>\n",
       "      <td>NaN</td>\n",
       "      <td>NaN</td>\n",
       "      <td>NaN</td>\n",
       "      <td>NaN</td>\n",
       "      <td>NaN</td>\n",
       "      <td>NaN</td>\n",
       "      <td>NaN</td>\n",
       "      <td>...</td>\n",
       "      <td>10.74</td>\n",
       "      <td>1.24</td>\n",
       "      <td>2.93</td>\n",
       "      <td>5.17</td>\n",
       "      <td>10.85</td>\n",
       "      <td>79.86</td>\n",
       "      <td>81.08</td>\n",
       "      <td>82.22</td>\n",
       "      <td>82.70</td>\n",
       "      <td>83.30</td>\n",
       "    </tr>\n",
       "  </tbody>\n",
       "</table>\n",
       "<p>123245 rows × 62 columns</p>\n",
       "</div>"
      ],
      "text/plain": [
       "                     btc_close  btc_volume  eth_close  eth_volume  dxy_close  \\\n",
       "date                                                                           \n",
       "2005-09-06 16:00:00        NaN         NaN        NaN         NaN        NaN   \n",
       "2005-09-06 17:00:00        NaN         NaN        NaN         NaN        NaN   \n",
       "2005-09-06 18:00:00        NaN         NaN        NaN         NaN        NaN   \n",
       "2005-09-06 19:00:00        NaN         NaN        NaN         NaN        NaN   \n",
       "2005-09-06 20:00:00        NaN         NaN        NaN         NaN        NaN   \n",
       "...                        ...         ...        ...         ...        ...   \n",
       "2022-01-05 15:00:00        NaN         NaN        NaN         NaN        NaN   \n",
       "2022-01-05 16:00:00        NaN         NaN        NaN         NaN        NaN   \n",
       "2022-01-05 17:00:00        NaN         NaN        NaN         NaN        NaN   \n",
       "2022-01-05 18:00:00        NaN         NaN        NaN         NaN        NaN   \n",
       "2022-01-05 19:00:00        NaN         NaN        NaN         NaN        NaN   \n",
       "\n",
       "                     dxy_volume  es_close  es_volume  gc_close  gc_volume  \\\n",
       "date                                                                        \n",
       "2005-09-06 16:00:00         NaN   1103.25     1711.0       NaN        NaN   \n",
       "2005-09-06 17:00:00         NaN   1103.25      744.0       NaN        NaN   \n",
       "2005-09-06 18:00:00         NaN   1103.00      395.0       NaN        NaN   \n",
       "2005-09-06 19:00:00         NaN   1102.75      280.0       NaN        NaN   \n",
       "2005-09-06 20:00:00         NaN   1102.75      370.0       NaN        NaN   \n",
       "...                         ...       ...        ...       ...        ...   \n",
       "2022-01-05 15:00:00         NaN       NaN        NaN       NaN        NaN   \n",
       "2022-01-05 16:00:00         NaN       NaN        NaN       NaN        NaN   \n",
       "2022-01-05 17:00:00         NaN       NaN        NaN       NaN        NaN   \n",
       "2022-01-05 18:00:00         NaN       NaN        NaN       NaN        NaN   \n",
       "2022-01-05 19:00:00         NaN       NaN        NaN       NaN        NaN   \n",
       "\n",
       "                     ...  eth_fiveDelta90DayExp  eth_thirtyFiveDelta180DayExp  \\\n",
       "date                 ...                                                        \n",
       "2005-09-06 16:00:00  ...                    NaN                           NaN   \n",
       "2005-09-06 17:00:00  ...                    NaN                           NaN   \n",
       "2005-09-06 18:00:00  ...                    NaN                           NaN   \n",
       "2005-09-06 19:00:00  ...                    NaN                           NaN   \n",
       "2005-09-06 20:00:00  ...                    NaN                           NaN   \n",
       "...                  ...                    ...                           ...   \n",
       "2022-01-05 15:00:00  ...                  10.11                          0.74   \n",
       "2022-01-05 16:00:00  ...                  10.14                          0.76   \n",
       "2022-01-05 17:00:00  ...                  10.32                          1.25   \n",
       "2022-01-05 18:00:00  ...                  10.73                          1.23   \n",
       "2022-01-05 19:00:00  ...                  10.74                          1.24   \n",
       "\n",
       "                     eth_twentyFiveDelta180DayExp  eth_fifteenDelta180DayExp  \\\n",
       "date                                                                           \n",
       "2005-09-06 16:00:00                           NaN                        NaN   \n",
       "2005-09-06 17:00:00                           NaN                        NaN   \n",
       "2005-09-06 18:00:00                           NaN                        NaN   \n",
       "2005-09-06 19:00:00                           NaN                        NaN   \n",
       "2005-09-06 20:00:00                           NaN                        NaN   \n",
       "...                                           ...                        ...   \n",
       "2022-01-05 15:00:00                          2.07                       4.32   \n",
       "2022-01-05 16:00:00                          2.28                       4.52   \n",
       "2022-01-05 17:00:00                          2.96                       5.42   \n",
       "2022-01-05 18:00:00                          2.93                       5.17   \n",
       "2022-01-05 19:00:00                          2.93                       5.17   \n",
       "\n",
       "                     eth_fiveDelta180DayExp  eth_atm7  eth_atm30  eth_atm60  \\\n",
       "date                                                                          \n",
       "2005-09-06 16:00:00                     NaN       NaN        NaN        NaN   \n",
       "2005-09-06 17:00:00                     NaN       NaN        NaN        NaN   \n",
       "2005-09-06 18:00:00                     NaN       NaN        NaN        NaN   \n",
       "2005-09-06 19:00:00                     NaN       NaN        NaN        NaN   \n",
       "2005-09-06 20:00:00                     NaN       NaN        NaN        NaN   \n",
       "...                                     ...       ...        ...        ...   \n",
       "2022-01-05 15:00:00                   11.95     79.68      81.17      82.22   \n",
       "2022-01-05 16:00:00                   11.61     81.92      82.05      82.83   \n",
       "2022-01-05 17:00:00                   11.56     82.99      82.74      83.16   \n",
       "2022-01-05 18:00:00                   10.75     79.90      81.10      82.23   \n",
       "2022-01-05 19:00:00                   10.85     79.86      81.08      82.22   \n",
       "\n",
       "                     eth_atm90  eth_atm180  \n",
       "date                                        \n",
       "2005-09-06 16:00:00        NaN         NaN  \n",
       "2005-09-06 17:00:00        NaN         NaN  \n",
       "2005-09-06 18:00:00        NaN         NaN  \n",
       "2005-09-06 19:00:00        NaN         NaN  \n",
       "2005-09-06 20:00:00        NaN         NaN  \n",
       "...                        ...         ...  \n",
       "2022-01-05 15:00:00      82.75       82.95  \n",
       "2022-01-05 16:00:00      83.31       83.31  \n",
       "2022-01-05 17:00:00      83.15       83.42  \n",
       "2022-01-05 18:00:00      82.70       83.30  \n",
       "2022-01-05 19:00:00      82.70       83.30  \n",
       "\n",
       "[123245 rows x 62 columns]"
      ]
     },
     "execution_count": 88,
     "metadata": {},
     "output_type": "execute_result"
    }
   ],
   "source": [
    "# Define path, datetime format, parse dates\n",
    "\n",
    "#all_data_df = pd.read_csv(url, index_col = \"date\", infer_datetime_format= True, parse_dates=True)\n",
    "all_data_df = pd.read_csv(Path(r\"C:\\Users\\Ling Zhou\\Desktop\\Project 2\\BTC-skew-as-a-trading-signal\\Data\\all_data.csv\"), index_col = \"date\", infer_datetime_format= True, parse_dates=True)\n",
    "all_data_df"
   ]
  },
  {
   "cell_type": "code",
   "execution_count": 89,
   "metadata": {},
   "outputs": [
    {
     "data": {
      "text/html": [
       "<div>\n",
       "<style scoped>\n",
       "    .dataframe tbody tr th:only-of-type {\n",
       "        vertical-align: middle;\n",
       "    }\n",
       "\n",
       "    .dataframe tbody tr th {\n",
       "        vertical-align: top;\n",
       "    }\n",
       "\n",
       "    .dataframe thead th {\n",
       "        text-align: right;\n",
       "    }\n",
       "</style>\n",
       "<table border=\"1\" class=\"dataframe\">\n",
       "  <thead>\n",
       "    <tr style=\"text-align: right;\">\n",
       "      <th></th>\n",
       "      <th>btc_close</th>\n",
       "      <th>btc_volume</th>\n",
       "      <th>eth_close</th>\n",
       "      <th>eth_volume</th>\n",
       "      <th>dxy_close</th>\n",
       "      <th>dxy_volume</th>\n",
       "      <th>es_close</th>\n",
       "      <th>es_volume</th>\n",
       "      <th>gc_close</th>\n",
       "      <th>gc_volume</th>\n",
       "      <th>...</th>\n",
       "      <th>eth_fiveDelta90DayExp</th>\n",
       "      <th>eth_thirtyFiveDelta180DayExp</th>\n",
       "      <th>eth_twentyFiveDelta180DayExp</th>\n",
       "      <th>eth_fifteenDelta180DayExp</th>\n",
       "      <th>eth_fiveDelta180DayExp</th>\n",
       "      <th>eth_atm7</th>\n",
       "      <th>eth_atm30</th>\n",
       "      <th>eth_atm60</th>\n",
       "      <th>eth_atm90</th>\n",
       "      <th>eth_atm180</th>\n",
       "    </tr>\n",
       "    <tr>\n",
       "      <th>date</th>\n",
       "      <th></th>\n",
       "      <th></th>\n",
       "      <th></th>\n",
       "      <th></th>\n",
       "      <th></th>\n",
       "      <th></th>\n",
       "      <th></th>\n",
       "      <th></th>\n",
       "      <th></th>\n",
       "      <th></th>\n",
       "      <th></th>\n",
       "      <th></th>\n",
       "      <th></th>\n",
       "      <th></th>\n",
       "      <th></th>\n",
       "      <th></th>\n",
       "      <th></th>\n",
       "      <th></th>\n",
       "      <th></th>\n",
       "      <th></th>\n",
       "      <th></th>\n",
       "    </tr>\n",
       "  </thead>\n",
       "  <tbody>\n",
       "    <tr>\n",
       "      <th>2020-03-01 18:00:00</th>\n",
       "      <td>8456.36</td>\n",
       "      <td>1765.940</td>\n",
       "      <td>218.57</td>\n",
       "      <td>26526.352</td>\n",
       "      <td>218.57</td>\n",
       "      <td>26526.352</td>\n",
       "      <td>2843.75</td>\n",
       "      <td>101216.0</td>\n",
       "      <td>1676.8</td>\n",
       "      <td>15692.0</td>\n",
       "      <td>...</td>\n",
       "      <td>9.24</td>\n",
       "      <td>4.93</td>\n",
       "      <td>8.01</td>\n",
       "      <td>11.93</td>\n",
       "      <td>4.78</td>\n",
       "      <td>100.37</td>\n",
       "      <td>93.17</td>\n",
       "      <td>90.93</td>\n",
       "      <td>87.88</td>\n",
       "      <td>84.37</td>\n",
       "    </tr>\n",
       "    <tr>\n",
       "      <th>2020-03-01 19:00:00</th>\n",
       "      <td>8533.54</td>\n",
       "      <td>2949.294</td>\n",
       "      <td>219.59</td>\n",
       "      <td>8449.286</td>\n",
       "      <td>219.59</td>\n",
       "      <td>8449.286</td>\n",
       "      <td>2842.75</td>\n",
       "      <td>51816.0</td>\n",
       "      <td>1688.8</td>\n",
       "      <td>17573.0</td>\n",
       "      <td>...</td>\n",
       "      <td>9.47</td>\n",
       "      <td>4.90</td>\n",
       "      <td>7.98</td>\n",
       "      <td>11.94</td>\n",
       "      <td>4.89</td>\n",
       "      <td>100.41</td>\n",
       "      <td>92.87</td>\n",
       "      <td>90.99</td>\n",
       "      <td>87.86</td>\n",
       "      <td>84.18</td>\n",
       "    </tr>\n",
       "    <tr>\n",
       "      <th>2020-03-01 20:00:00</th>\n",
       "      <td>8484.55</td>\n",
       "      <td>1803.343</td>\n",
       "      <td>214.24</td>\n",
       "      <td>6292.348</td>\n",
       "      <td>214.24</td>\n",
       "      <td>6292.348</td>\n",
       "      <td>2870.75</td>\n",
       "      <td>76963.0</td>\n",
       "      <td>1687.4</td>\n",
       "      <td>35446.0</td>\n",
       "      <td>...</td>\n",
       "      <td>9.32</td>\n",
       "      <td>4.76</td>\n",
       "      <td>7.69</td>\n",
       "      <td>11.78</td>\n",
       "      <td>4.79</td>\n",
       "      <td>100.03</td>\n",
       "      <td>92.81</td>\n",
       "      <td>90.97</td>\n",
       "      <td>87.97</td>\n",
       "      <td>84.34</td>\n",
       "    </tr>\n",
       "    <tr>\n",
       "      <th>2020-03-01 21:00:00</th>\n",
       "      <td>8513.73</td>\n",
       "      <td>2083.146</td>\n",
       "      <td>222.07</td>\n",
       "      <td>9881.078</td>\n",
       "      <td>222.07</td>\n",
       "      <td>9881.078</td>\n",
       "      <td>2899.75</td>\n",
       "      <td>54147.0</td>\n",
       "      <td>1687.1</td>\n",
       "      <td>15904.0</td>\n",
       "      <td>...</td>\n",
       "      <td>8.56</td>\n",
       "      <td>4.11</td>\n",
       "      <td>6.60</td>\n",
       "      <td>11.13</td>\n",
       "      <td>4.39</td>\n",
       "      <td>98.04</td>\n",
       "      <td>92.53</td>\n",
       "      <td>90.69</td>\n",
       "      <td>88.20</td>\n",
       "      <td>84.46</td>\n",
       "    </tr>\n",
       "    <tr>\n",
       "      <th>2020-03-01 22:00:00</th>\n",
       "      <td>8565.00</td>\n",
       "      <td>1383.603</td>\n",
       "      <td>219.87</td>\n",
       "      <td>11060.615</td>\n",
       "      <td>219.87</td>\n",
       "      <td>11060.615</td>\n",
       "      <td>2894.75</td>\n",
       "      <td>37502.0</td>\n",
       "      <td>1690.5</td>\n",
       "      <td>11920.0</td>\n",
       "      <td>...</td>\n",
       "      <td>9.28</td>\n",
       "      <td>4.70</td>\n",
       "      <td>7.58</td>\n",
       "      <td>12.48</td>\n",
       "      <td>4.75</td>\n",
       "      <td>98.42</td>\n",
       "      <td>93.05</td>\n",
       "      <td>91.10</td>\n",
       "      <td>88.25</td>\n",
       "      <td>84.69</td>\n",
       "    </tr>\n",
       "  </tbody>\n",
       "</table>\n",
       "<p>5 rows × 62 columns</p>\n",
       "</div>"
      ],
      "text/plain": [
       "                     btc_close  btc_volume  eth_close  eth_volume  dxy_close  \\\n",
       "date                                                                           \n",
       "2020-03-01 18:00:00    8456.36    1765.940     218.57   26526.352     218.57   \n",
       "2020-03-01 19:00:00    8533.54    2949.294     219.59    8449.286     219.59   \n",
       "2020-03-01 20:00:00    8484.55    1803.343     214.24    6292.348     214.24   \n",
       "2020-03-01 21:00:00    8513.73    2083.146     222.07    9881.078     222.07   \n",
       "2020-03-01 22:00:00    8565.00    1383.603     219.87   11060.615     219.87   \n",
       "\n",
       "                     dxy_volume  es_close  es_volume  gc_close  gc_volume  \\\n",
       "date                                                                        \n",
       "2020-03-01 18:00:00   26526.352   2843.75   101216.0    1676.8    15692.0   \n",
       "2020-03-01 19:00:00    8449.286   2842.75    51816.0    1688.8    17573.0   \n",
       "2020-03-01 20:00:00    6292.348   2870.75    76963.0    1687.4    35446.0   \n",
       "2020-03-01 21:00:00    9881.078   2899.75    54147.0    1687.1    15904.0   \n",
       "2020-03-01 22:00:00   11060.615   2894.75    37502.0    1690.5    11920.0   \n",
       "\n",
       "                     ...  eth_fiveDelta90DayExp  eth_thirtyFiveDelta180DayExp  \\\n",
       "date                 ...                                                        \n",
       "2020-03-01 18:00:00  ...                   9.24                          4.93   \n",
       "2020-03-01 19:00:00  ...                   9.47                          4.90   \n",
       "2020-03-01 20:00:00  ...                   9.32                          4.76   \n",
       "2020-03-01 21:00:00  ...                   8.56                          4.11   \n",
       "2020-03-01 22:00:00  ...                   9.28                          4.70   \n",
       "\n",
       "                     eth_twentyFiveDelta180DayExp  eth_fifteenDelta180DayExp  \\\n",
       "date                                                                           \n",
       "2020-03-01 18:00:00                          8.01                      11.93   \n",
       "2020-03-01 19:00:00                          7.98                      11.94   \n",
       "2020-03-01 20:00:00                          7.69                      11.78   \n",
       "2020-03-01 21:00:00                          6.60                      11.13   \n",
       "2020-03-01 22:00:00                          7.58                      12.48   \n",
       "\n",
       "                     eth_fiveDelta180DayExp  eth_atm7  eth_atm30  eth_atm60  \\\n",
       "date                                                                          \n",
       "2020-03-01 18:00:00                    4.78    100.37      93.17      90.93   \n",
       "2020-03-01 19:00:00                    4.89    100.41      92.87      90.99   \n",
       "2020-03-01 20:00:00                    4.79    100.03      92.81      90.97   \n",
       "2020-03-01 21:00:00                    4.39     98.04      92.53      90.69   \n",
       "2020-03-01 22:00:00                    4.75     98.42      93.05      91.10   \n",
       "\n",
       "                     eth_atm90  eth_atm180  \n",
       "date                                        \n",
       "2020-03-01 18:00:00      87.88       84.37  \n",
       "2020-03-01 19:00:00      87.86       84.18  \n",
       "2020-03-01 20:00:00      87.97       84.34  \n",
       "2020-03-01 21:00:00      88.20       84.46  \n",
       "2020-03-01 22:00:00      88.25       84.69  \n",
       "\n",
       "[5 rows x 62 columns]"
      ]
     },
     "execution_count": 89,
     "metadata": {},
     "output_type": "execute_result"
    }
   ],
   "source": [
    "#cut the data set to timeframe where data exists for \n",
    "chopped_data_df = all_data_df.loc[\"2020-03-01 18:00:00\":\"2021-12-31 19:00:00\"]\n",
    "chopped_data_int_df = chopped_data_df.interpolate('linear')\n",
    "chopped_data_int_df.head(5)"
   ]
  },
  {
   "cell_type": "code",
   "execution_count": 90,
   "metadata": {},
   "outputs": [],
   "source": [
    "#removing extra vol and skew parameters - this section is no longer needed with new methodology of selecting \n",
    "#chopped_data_int_df = chopped_data_int_df.drop([\"btc_thirtyFiveDelta90DayExp\",\"btc_twentyFiveDelta90DayExp\",\"btc_fifteenDelta90DayExp\",\"btc_fiveDelta90DayExp\",\"btc_thirtyFiveDelta180DayExp\",\"btc_twentyFiveDelta180DayExp\",\"btc_fifteenDelta180DayExp\",\"btc_fiveDelta180DayExp\"], axis=1)\n",
    "#chopped_data_int_df = chopped_data_int_df.drop([\"eth_thirtyFiveDelta90DayExp\",\"eth_twentyFiveDelta90DayExp\",\"eth_fifteenDelta90DayExp\",\"eth_fiveDelta90DayExp\",\"eth_thirtyFiveDelta180DayExp\",\"eth_twentyFiveDelta180DayExp\",\"eth_fifteenDelta180DayExp\",\"eth_fiveDelta180DayExp\"], axis=1)\n",
    "#chopped_data_int_df = chopped_data_int_df.drop([\"btc_thirtyFiveDelta60DayExp\",\"btc_twentyFiveDelta60DayExp\",\"btc_fifteenDelta60DayExp\",\"btc_fiveDelta60DayExp\",\"eth_thirtyFiveDelta60DayExp\",\"eth_twentyFiveDelta60DayExp\",\"eth_fifteenDelta60DayExp\",\"eth_fiveDelta60DayExp\"], axis=1)\n",
    "#chopped_data_int_df = chopped_data_int_df.drop([\"btc_thirtyFiveDelta30DayExp\",\"btc_fifteenDelta30DayExp\",\"btc_fiveDelta30DayExp\",\"eth_thirtyFiveDelta30DayExp\",\"eth_fifteenDelta30DayExp\",\"eth_fiveDelta30DayExp\"], axis=1)\n",
    "#chopped_data_int_df = chopped_data_int_df.drop([\"btc_thirtyFiveDelta7DayExp\",\"btc_fifteenDelta7DayExp\",\"btc_fiveDelta7DayExp\",\"eth_thirtyFiveDelta7DayExp\",\"eth_fifteenDelta7DayExp\",\"eth_fiveDelta7DayExp\"], axis=1)\n",
    "#chopped_data_int_df = chopped_data_int_df.drop([\"btc_atm60\",\"btc_atm90\",\"btc_atm180\",\"eth_atm60\",\"eth_atm90\",\"eth_atm180\"], axis=1)\n",
    "#cleaned_data_df = chopped_data_int_df.drop([\"btc_close\",\"eth_close\",\"dxy_close\",\"gc_close\",\"us_close\",\"es_close\"], axis=1)\n"
   ]
  },
  {
   "cell_type": "code",
   "execution_count": 91,
   "metadata": {},
   "outputs": [],
   "source": [
    "#adding moving averages\n",
    "chopped_data_int_df[\"btc_50hma\"] = chopped_data_int_df['btc_close'].rolling(50).mean()\n",
    "chopped_data_int_df[\"btc_200hma\"] = chopped_data_int_df['btc_close'].rolling(200).mean()\n",
    "chopped_data_int_df[\"btc_50_200_hma_cross\"] = chopped_data_int_df['btc_close'].rolling(50).mean()-chopped_data_int_df['eth_close'].rolling(200).mean()\n",
    "chopped_data_int_df[\"eth_50hma\"] = chopped_data_int_df['eth_close'].rolling(50).mean()\n",
    "chopped_data_int_df[\"eth_200hma\"] = chopped_data_int_df['eth_close'].rolling(200).mean()\n",
    "chopped_data_int_df[\"eth_50_200_hma_cross\"] = chopped_data_int_df['eth_close'].rolling(50).mean()-chopped_data_int_df['eth_close'].rolling(200).mean()\n",
    "chopped_data_int_df[\"btc_eth_ratio\"] = chopped_data_int_df['btc_close']/chopped_data_int_df['eth_close']\n",
    "\n",
    "# Create new variable for % change between intervals\n",
    "\n",
    "#add percent changes for\n",
    "chopped_data_int_df[\"btc_close_pct\"] = chopped_data_int_df['btc_close'].pct_change()\n",
    "chopped_data_int_df[\"eth_close_pct\"] = chopped_data_int_df['eth_close'].pct_change()\n",
    "chopped_data_int_df[\"dxy_close_pct\"] = chopped_data_int_df['dxy_close'].pct_change()\n",
    "chopped_data_int_df[\"es_close_pct\"] = chopped_data_int_df['es_close'].pct_change()\n",
    "chopped_data_int_df[\"gc_close_pct\"] = chopped_data_int_df['gc_close'].pct_change()\n",
    "chopped_data_int_df[\"us_close_pct\"] = chopped_data_int_df['us_close'].pct_change()\n",
    "chopped_data_int_df[\"btc_eth_ratio_pct\"] = chopped_data_int_df['btc_eth_ratio'].pct_change()\n"
   ]
  },
  {
   "cell_type": "code",
   "execution_count": 92,
   "metadata": {},
   "outputs": [
    {
     "data": {
      "text/plain": [
       "'btc_close'"
      ]
     },
     "metadata": {},
     "output_type": "display_data"
    },
    {
     "data": {
      "text/plain": [
       "'btc_volume'"
      ]
     },
     "metadata": {},
     "output_type": "display_data"
    },
    {
     "data": {
      "text/plain": [
       "'eth_close'"
      ]
     },
     "metadata": {},
     "output_type": "display_data"
    },
    {
     "data": {
      "text/plain": [
       "'eth_volume'"
      ]
     },
     "metadata": {},
     "output_type": "display_data"
    },
    {
     "data": {
      "text/plain": [
       "'dxy_close'"
      ]
     },
     "metadata": {},
     "output_type": "display_data"
    },
    {
     "data": {
      "text/plain": [
       "'dxy_volume'"
      ]
     },
     "metadata": {},
     "output_type": "display_data"
    },
    {
     "data": {
      "text/plain": [
       "'es_close'"
      ]
     },
     "metadata": {},
     "output_type": "display_data"
    },
    {
     "data": {
      "text/plain": [
       "'es_volume'"
      ]
     },
     "metadata": {},
     "output_type": "display_data"
    },
    {
     "data": {
      "text/plain": [
       "'gc_close'"
      ]
     },
     "metadata": {},
     "output_type": "display_data"
    },
    {
     "data": {
      "text/plain": [
       "'gc_volume'"
      ]
     },
     "metadata": {},
     "output_type": "display_data"
    },
    {
     "data": {
      "text/plain": [
       "'us_close'"
      ]
     },
     "metadata": {},
     "output_type": "display_data"
    },
    {
     "data": {
      "text/plain": [
       "'us_volume'"
      ]
     },
     "metadata": {},
     "output_type": "display_data"
    },
    {
     "data": {
      "text/plain": [
       "'btc_thirtyFiveDelta7DayExp'"
      ]
     },
     "metadata": {},
     "output_type": "display_data"
    },
    {
     "data": {
      "text/plain": [
       "'btc_twentyFiveDelta7DayExp'"
      ]
     },
     "metadata": {},
     "output_type": "display_data"
    },
    {
     "data": {
      "text/plain": [
       "'btc_fifteenDelta7DayExp'"
      ]
     },
     "metadata": {},
     "output_type": "display_data"
    },
    {
     "data": {
      "text/plain": [
       "'btc_fiveDelta7DayExp'"
      ]
     },
     "metadata": {},
     "output_type": "display_data"
    },
    {
     "data": {
      "text/plain": [
       "'btc_thirtyFiveDelta30DayExp'"
      ]
     },
     "metadata": {},
     "output_type": "display_data"
    },
    {
     "data": {
      "text/plain": [
       "'btc_twentyFiveDelta30DayExp'"
      ]
     },
     "metadata": {},
     "output_type": "display_data"
    },
    {
     "data": {
      "text/plain": [
       "'btc_fifteenDelta30DayExp'"
      ]
     },
     "metadata": {},
     "output_type": "display_data"
    },
    {
     "data": {
      "text/plain": [
       "'btc_fiveDelta30DayExp'"
      ]
     },
     "metadata": {},
     "output_type": "display_data"
    },
    {
     "data": {
      "text/plain": [
       "'btc_thirtyFiveDelta60DayExp'"
      ]
     },
     "metadata": {},
     "output_type": "display_data"
    },
    {
     "data": {
      "text/plain": [
       "'btc_twentyFiveDelta60DayExp'"
      ]
     },
     "metadata": {},
     "output_type": "display_data"
    },
    {
     "data": {
      "text/plain": [
       "'btc_fifteenDelta60DayExp'"
      ]
     },
     "metadata": {},
     "output_type": "display_data"
    },
    {
     "data": {
      "text/plain": [
       "'btc_fiveDelta60DayExp'"
      ]
     },
     "metadata": {},
     "output_type": "display_data"
    },
    {
     "data": {
      "text/plain": [
       "'btc_thirtyFiveDelta90DayExp'"
      ]
     },
     "metadata": {},
     "output_type": "display_data"
    },
    {
     "data": {
      "text/plain": [
       "'btc_twentyFiveDelta90DayExp'"
      ]
     },
     "metadata": {},
     "output_type": "display_data"
    },
    {
     "data": {
      "text/plain": [
       "'btc_fifteenDelta90DayExp'"
      ]
     },
     "metadata": {},
     "output_type": "display_data"
    },
    {
     "data": {
      "text/plain": [
       "'btc_fiveDelta90DayExp'"
      ]
     },
     "metadata": {},
     "output_type": "display_data"
    },
    {
     "data": {
      "text/plain": [
       "'btc_thirtyFiveDelta180DayExp'"
      ]
     },
     "metadata": {},
     "output_type": "display_data"
    },
    {
     "data": {
      "text/plain": [
       "'btc_twentyFiveDelta180DayExp'"
      ]
     },
     "metadata": {},
     "output_type": "display_data"
    },
    {
     "data": {
      "text/plain": [
       "'btc_fifteenDelta180DayExp'"
      ]
     },
     "metadata": {},
     "output_type": "display_data"
    },
    {
     "data": {
      "text/plain": [
       "'btc_fiveDelta180DayExp'"
      ]
     },
     "metadata": {},
     "output_type": "display_data"
    },
    {
     "data": {
      "text/plain": [
       "'btc_atm7'"
      ]
     },
     "metadata": {},
     "output_type": "display_data"
    },
    {
     "data": {
      "text/plain": [
       "'btc_atm30'"
      ]
     },
     "metadata": {},
     "output_type": "display_data"
    },
    {
     "data": {
      "text/plain": [
       "'btc_atm60'"
      ]
     },
     "metadata": {},
     "output_type": "display_data"
    },
    {
     "data": {
      "text/plain": [
       "'btc_atm90'"
      ]
     },
     "metadata": {},
     "output_type": "display_data"
    },
    {
     "data": {
      "text/plain": [
       "'btc_atm180'"
      ]
     },
     "metadata": {},
     "output_type": "display_data"
    },
    {
     "data": {
      "text/plain": [
       "'eth_thirtyFiveDelta7DayExp'"
      ]
     },
     "metadata": {},
     "output_type": "display_data"
    },
    {
     "data": {
      "text/plain": [
       "'eth_twentyFiveDelta7DayExp'"
      ]
     },
     "metadata": {},
     "output_type": "display_data"
    },
    {
     "data": {
      "text/plain": [
       "'eth_fifteenDelta7DayExp'"
      ]
     },
     "metadata": {},
     "output_type": "display_data"
    },
    {
     "data": {
      "text/plain": [
       "'eth_fiveDelta7DayExp'"
      ]
     },
     "metadata": {},
     "output_type": "display_data"
    },
    {
     "data": {
      "text/plain": [
       "'eth_thirtyFiveDelta30DayExp'"
      ]
     },
     "metadata": {},
     "output_type": "display_data"
    },
    {
     "data": {
      "text/plain": [
       "'eth_twentyFiveDelta30DayExp'"
      ]
     },
     "metadata": {},
     "output_type": "display_data"
    },
    {
     "data": {
      "text/plain": [
       "'eth_fifteenDelta30DayExp'"
      ]
     },
     "metadata": {},
     "output_type": "display_data"
    },
    {
     "data": {
      "text/plain": [
       "'eth_fiveDelta30DayExp'"
      ]
     },
     "metadata": {},
     "output_type": "display_data"
    },
    {
     "data": {
      "text/plain": [
       "'eth_thirtyFiveDelta60DayExp'"
      ]
     },
     "metadata": {},
     "output_type": "display_data"
    },
    {
     "data": {
      "text/plain": [
       "'eth_twentyFiveDelta60DayExp'"
      ]
     },
     "metadata": {},
     "output_type": "display_data"
    },
    {
     "data": {
      "text/plain": [
       "'eth_fifteenDelta60DayExp'"
      ]
     },
     "metadata": {},
     "output_type": "display_data"
    },
    {
     "data": {
      "text/plain": [
       "'eth_fiveDelta60DayExp'"
      ]
     },
     "metadata": {},
     "output_type": "display_data"
    },
    {
     "data": {
      "text/plain": [
       "'eth_thirtyFiveDelta90DayExp'"
      ]
     },
     "metadata": {},
     "output_type": "display_data"
    },
    {
     "data": {
      "text/plain": [
       "'eth_twentyFiveDelta90DayExp'"
      ]
     },
     "metadata": {},
     "output_type": "display_data"
    },
    {
     "data": {
      "text/plain": [
       "'eth_fifteenDelta90DayExp'"
      ]
     },
     "metadata": {},
     "output_type": "display_data"
    },
    {
     "data": {
      "text/plain": [
       "'eth_fiveDelta90DayExp'"
      ]
     },
     "metadata": {},
     "output_type": "display_data"
    },
    {
     "data": {
      "text/plain": [
       "'eth_thirtyFiveDelta180DayExp'"
      ]
     },
     "metadata": {},
     "output_type": "display_data"
    },
    {
     "data": {
      "text/plain": [
       "'eth_twentyFiveDelta180DayExp'"
      ]
     },
     "metadata": {},
     "output_type": "display_data"
    },
    {
     "data": {
      "text/plain": [
       "'eth_fifteenDelta180DayExp'"
      ]
     },
     "metadata": {},
     "output_type": "display_data"
    },
    {
     "data": {
      "text/plain": [
       "'eth_fiveDelta180DayExp'"
      ]
     },
     "metadata": {},
     "output_type": "display_data"
    },
    {
     "data": {
      "text/plain": [
       "'eth_atm7'"
      ]
     },
     "metadata": {},
     "output_type": "display_data"
    },
    {
     "data": {
      "text/plain": [
       "'eth_atm30'"
      ]
     },
     "metadata": {},
     "output_type": "display_data"
    },
    {
     "data": {
      "text/plain": [
       "'eth_atm60'"
      ]
     },
     "metadata": {},
     "output_type": "display_data"
    },
    {
     "data": {
      "text/plain": [
       "'eth_atm90'"
      ]
     },
     "metadata": {},
     "output_type": "display_data"
    },
    {
     "data": {
      "text/plain": [
       "'eth_atm180'"
      ]
     },
     "metadata": {},
     "output_type": "display_data"
    },
    {
     "data": {
      "text/plain": [
       "'btc_50hma'"
      ]
     },
     "metadata": {},
     "output_type": "display_data"
    },
    {
     "data": {
      "text/plain": [
       "'btc_200hma'"
      ]
     },
     "metadata": {},
     "output_type": "display_data"
    },
    {
     "data": {
      "text/plain": [
       "'btc_50_200_hma_cross'"
      ]
     },
     "metadata": {},
     "output_type": "display_data"
    },
    {
     "data": {
      "text/plain": [
       "'eth_50hma'"
      ]
     },
     "metadata": {},
     "output_type": "display_data"
    },
    {
     "data": {
      "text/plain": [
       "'eth_200hma'"
      ]
     },
     "metadata": {},
     "output_type": "display_data"
    },
    {
     "data": {
      "text/plain": [
       "'eth_50_200_hma_cross'"
      ]
     },
     "metadata": {},
     "output_type": "display_data"
    },
    {
     "data": {
      "text/plain": [
       "'btc_eth_ratio'"
      ]
     },
     "metadata": {},
     "output_type": "display_data"
    },
    {
     "data": {
      "text/plain": [
       "'btc_close_pct'"
      ]
     },
     "metadata": {},
     "output_type": "display_data"
    },
    {
     "data": {
      "text/plain": [
       "'eth_close_pct'"
      ]
     },
     "metadata": {},
     "output_type": "display_data"
    },
    {
     "data": {
      "text/plain": [
       "'dxy_close_pct'"
      ]
     },
     "metadata": {},
     "output_type": "display_data"
    },
    {
     "data": {
      "text/plain": [
       "'es_close_pct'"
      ]
     },
     "metadata": {},
     "output_type": "display_data"
    },
    {
     "data": {
      "text/plain": [
       "'gc_close_pct'"
      ]
     },
     "metadata": {},
     "output_type": "display_data"
    },
    {
     "data": {
      "text/plain": [
       "'us_close_pct'"
      ]
     },
     "metadata": {},
     "output_type": "display_data"
    },
    {
     "data": {
      "text/plain": [
       "'btc_eth_ratio_pct'"
      ]
     },
     "metadata": {},
     "output_type": "display_data"
    }
   ],
   "source": [
    "#display all possible input variables for selection\n",
    "for col in chopped_data_int_df.columns:\n",
    "    display(col)"
   ]
  },
  {
   "cell_type": "code",
   "execution_count": 93,
   "metadata": {},
   "outputs": [],
   "source": [
    "#select input data for LSTM model\n",
    "new_df=chopped_data_int_df[[\"btc_close_pct\",\"btc_volume\",\"eth_close_pct\",\"eth_volume\",\"btc_eth_ratio_pct\"]].copy()"
   ]
  },
  {
   "cell_type": "code",
   "execution_count": 94,
   "metadata": {},
   "outputs": [],
   "source": [
    "#remove dependent variable\n",
    "\n",
    "#X=cleaned_data_df.drop([\"btc_close_pct\"],axis=1)\n",
    "X=new_df\n",
    "\n",
    "#shift dependent variable back to line up forward return\n",
    "z=chopped_data_int_df[\"btc_close_pct\"].shift(-1)"
   ]
  },
  {
   "cell_type": "code",
   "execution_count": 95,
   "metadata": {},
   "outputs": [],
   "source": [
    "y_list=[]\n",
    "for i in range(0,len(z)):\n",
    "  if z[i] < -0.005: \n",
    "    y_list.append(-2),\n",
    "  elif (z[i] <-0.001 and z[i] >= -0.005):\n",
    "    y_list.append(-1),\n",
    "  elif (z[i] <= 0.005 and z[i] > 0.001):\n",
    "    y_list.append(1),\n",
    "  elif z[i] > 0.005: \n",
    "    y_list.append(2)\n",
    "  else:\n",
    "    y_list.append(0)"
   ]
  },
  {
   "cell_type": "code",
   "execution_count": 96,
   "metadata": {},
   "outputs": [
    {
     "data": {
      "text/plain": [
       "-2  -1  0  1  2\n",
       "0   0   0  1  0    3805\n",
       "    1   0  0  0    3719\n",
       "    0   0  0  1    3024\n",
       "        1  0  0    2788\n",
       "1   0   0  0  0    2776\n",
       "dtype: int64"
      ]
     },
     "execution_count": 96,
     "metadata": {},
     "output_type": "execute_result"
    }
   ],
   "source": [
    "#converting the y list into a series with the relevant date-time index\n",
    "y_df = pd.Series(y_list,index=z.index)\n",
    "\n",
    "y = pd.get_dummies(y_df)\n",
    "\n",
    "y.value_counts()"
   ]
  },
  {
   "cell_type": "code",
   "execution_count": 97,
   "metadata": {},
   "outputs": [
    {
     "data": {
      "text/html": [
       "<div>\n",
       "<style scoped>\n",
       "    .dataframe tbody tr th:only-of-type {\n",
       "        vertical-align: middle;\n",
       "    }\n",
       "\n",
       "    .dataframe tbody tr th {\n",
       "        vertical-align: top;\n",
       "    }\n",
       "\n",
       "    .dataframe thead th {\n",
       "        text-align: right;\n",
       "    }\n",
       "</style>\n",
       "<table border=\"1\" class=\"dataframe\">\n",
       "  <thead>\n",
       "    <tr style=\"text-align: right;\">\n",
       "      <th></th>\n",
       "      <th>-2</th>\n",
       "      <th>-1</th>\n",
       "      <th>0</th>\n",
       "      <th>1</th>\n",
       "      <th>2</th>\n",
       "    </tr>\n",
       "    <tr>\n",
       "      <th>date</th>\n",
       "      <th></th>\n",
       "      <th></th>\n",
       "      <th></th>\n",
       "      <th></th>\n",
       "      <th></th>\n",
       "    </tr>\n",
       "  </thead>\n",
       "  <tbody>\n",
       "    <tr>\n",
       "      <th>2020-03-01 18:00:00</th>\n",
       "      <td>0</td>\n",
       "      <td>0</td>\n",
       "      <td>0</td>\n",
       "      <td>0</td>\n",
       "      <td>1</td>\n",
       "    </tr>\n",
       "    <tr>\n",
       "      <th>2020-03-01 19:00:00</th>\n",
       "      <td>1</td>\n",
       "      <td>0</td>\n",
       "      <td>0</td>\n",
       "      <td>0</td>\n",
       "      <td>0</td>\n",
       "    </tr>\n",
       "    <tr>\n",
       "      <th>2020-03-01 20:00:00</th>\n",
       "      <td>0</td>\n",
       "      <td>0</td>\n",
       "      <td>0</td>\n",
       "      <td>1</td>\n",
       "      <td>0</td>\n",
       "    </tr>\n",
       "    <tr>\n",
       "      <th>2020-03-01 21:00:00</th>\n",
       "      <td>0</td>\n",
       "      <td>0</td>\n",
       "      <td>0</td>\n",
       "      <td>0</td>\n",
       "      <td>1</td>\n",
       "    </tr>\n",
       "    <tr>\n",
       "      <th>2020-03-01 22:00:00</th>\n",
       "      <td>0</td>\n",
       "      <td>1</td>\n",
       "      <td>0</td>\n",
       "      <td>0</td>\n",
       "      <td>0</td>\n",
       "    </tr>\n",
       "  </tbody>\n",
       "</table>\n",
       "</div>"
      ],
      "text/plain": [
       "                     -2  -1   0   1   2\n",
       "date                                   \n",
       "2020-03-01 18:00:00   0   0   0   0   1\n",
       "2020-03-01 19:00:00   1   0   0   0   0\n",
       "2020-03-01 20:00:00   0   0   0   1   0\n",
       "2020-03-01 21:00:00   0   0   0   0   1\n",
       "2020-03-01 22:00:00   0   1   0   0   0"
      ]
     },
     "metadata": {},
     "output_type": "display_data"
    },
    {
     "data": {
      "text/plain": [
       "16112"
      ]
     },
     "metadata": {},
     "output_type": "display_data"
    }
   ],
   "source": [
    "display(y.head())\n",
    "display(len(y))"
   ]
  },
  {
   "cell_type": "code",
   "execution_count": 98,
   "metadata": {},
   "outputs": [
    {
     "data": {
      "text/plain": [
       "11278"
      ]
     },
     "metadata": {},
     "output_type": "display_data"
    },
    {
     "data": {
      "text/plain": [
       "16112"
      ]
     },
     "metadata": {},
     "output_type": "display_data"
    }
   ],
   "source": [
    "#calculating 70% for training, 30% testing\n",
    "training_end = round(len(y)*.7)\n",
    "test_end = round(len(y)*1)\n",
    "display(training_end)\n",
    "display(test_end)"
   ]
  },
  {
   "cell_type": "code",
   "execution_count": 99,
   "metadata": {},
   "outputs": [],
   "source": [
    "#creating training sets\n",
    "X_train = X.iloc[1:training_end,]\n",
    "y_train = y.iloc[1:training_end,]\n",
    "\n",
    "#creating testing sets\n",
    "X_test=X.iloc[training_end:test_end,]\n",
    "y_test=y.iloc[training_end:test_end,]"
   ]
  },
  {
   "cell_type": "code",
   "execution_count": 100,
   "metadata": {},
   "outputs": [],
   "source": [
    "#scale the data\n",
    "scaler = StandardScaler()\n",
    "\n",
    "#apply scaler model to fit the X-train data\n",
    "X_scaler = scaler.fit(X_train)\n",
    "\n",
    "#Transform X_train, X_test, X_validate using X_scaler\n",
    "X_train_scaled = X_scaler.transform(X_train)\n",
    "X_test_scaled = X_scaler.transform(X_test)\n",
    "#X_validate_scaled = X_scaler.transform(X_validate)"
   ]
  },
  {
   "cell_type": "code",
   "execution_count": 101,
   "metadata": {},
   "outputs": [
    {
     "name": "stdout",
     "output_type": "stream",
     "text": [
      "Model: \"sequential_2\"\n",
      "_________________________________________________________________\n",
      " Layer (type)                Output Shape              Param #   \n",
      "=================================================================\n",
      " lstm_6 (LSTM)               (None, 5, 5)              140       \n",
      "                                                                 \n",
      " dropout_6 (Dropout)         (None, 5, 5)              0         \n",
      "                                                                 \n",
      " lstm_7 (LSTM)               (None, 5, 5)              220       \n",
      "                                                                 \n",
      " dropout_7 (Dropout)         (None, 5, 5)              0         \n",
      "                                                                 \n",
      " lstm_8 (LSTM)               (None, 5)                 220       \n",
      "                                                                 \n",
      " dropout_8 (Dropout)         (None, 5)                 0         \n",
      "                                                                 \n",
      " dense_2 (Dense)             (None, 5)                 30        \n",
      "                                                                 \n",
      "=================================================================\n",
      "Total params: 610\n",
      "Trainable params: 610\n",
      "Non-trainable params: 0\n",
      "_________________________________________________________________\n"
     ]
    }
   ],
   "source": [
    "#LSTM Model\n",
    "\n",
    "model = Sequential()\n",
    "model.add(LSTM(\n",
    "    units=X_train.shape[1], return_sequences=True,\n",
    "    input_shape=(X_train.shape[1], 1)))\n",
    "model.add(Dropout(0.2))\n",
    "model.add(LSTM(units=X_train.shape[1], return_sequences=True))\n",
    "model.add(Dropout(0.2))\n",
    "model.add(LSTM(units=X_train.shape[1]))\n",
    "model.add(Dropout(0.2))\n",
    "model.add(Dense(5, activation='softmax'))\n",
    "\n",
    "model.compile(optimizer='adam', loss='categorical_crossentropy',\n",
    "              metrics=['accuracy'])\n",
    "\n",
    "model.summary()"
   ]
  },
  {
   "cell_type": "code",
   "execution_count": 102,
   "metadata": {},
   "outputs": [
    {
     "name": "stdout",
     "output_type": "stream",
     "text": [
      "Epoch 1/11\n",
      "177/177 [==============================] - 3s 4ms/step - loss: 1.6068 - accuracy: 0.2366\n",
      "Epoch 2/11\n",
      "177/177 [==============================] - 1s 4ms/step - loss: 1.5999 - accuracy: 0.2396\n",
      "Epoch 3/11\n",
      "177/177 [==============================] - 1s 4ms/step - loss: 1.5942 - accuracy: 0.2503\n",
      "Epoch 4/11\n",
      "177/177 [==============================] - 1s 4ms/step - loss: 1.5894 - accuracy: 0.2586\n",
      "Epoch 5/11\n",
      "177/177 [==============================] - 1s 4ms/step - loss: 1.5830 - accuracy: 0.2596\n",
      "Epoch 6/11\n",
      "177/177 [==============================] - 1s 3ms/step - loss: 1.5775 - accuracy: 0.2635\n",
      "Epoch 7/11\n",
      "177/177 [==============================] - 1s 3ms/step - loss: 1.5723 - accuracy: 0.2679\n",
      "Epoch 8/11\n",
      "177/177 [==============================] - 1s 3ms/step - loss: 1.5709 - accuracy: 0.2674\n",
      "Epoch 9/11\n",
      "177/177 [==============================] - 1s 3ms/step - loss: 1.5667 - accuracy: 0.2699\n",
      "Epoch 10/11\n",
      "177/177 [==============================] - 1s 3ms/step - loss: 1.5675 - accuracy: 0.2685\n",
      "Epoch 11/11\n",
      "177/177 [==============================] - 1s 3ms/step - loss: 1.5634 - accuracy: 0.2713\n"
     ]
    },
    {
     "data": {
      "text/plain": [
       "<keras.callbacks.History at 0x1e8a1426fc8>"
      ]
     },
     "execution_count": 102,
     "metadata": {},
     "output_type": "execute_result"
    }
   ],
   "source": [
    "#train the model\n",
    "model.fit(X_train_scaled, y_train, epochs=11, shuffle=False, batch_size=64, verbose=1)"
   ]
  },
  {
   "cell_type": "code",
   "execution_count": 103,
   "metadata": {},
   "outputs": [
    {
     "name": "stdout",
     "output_type": "stream",
     "text": [
      "[[0.15990442 0.24867593 0.18659724 0.24007416 0.16474825]\n",
      " [0.15933238 0.19085002 0.21565083 0.24482067 0.18934603]\n",
      " [0.16164684 0.20522666 0.20469457 0.24220015 0.18623172]\n",
      " ...\n",
      " [0.21633776 0.15155086 0.15947197 0.1962708  0.27636865]\n",
      " [0.18857712 0.1735513  0.18727414 0.22130436 0.22929306]\n",
      " [0.2737913  0.10641436 0.10049275 0.13783276 0.38146877]]\n"
     ]
    }
   ],
   "source": [
    "#calculate predicted values using X_test\n",
    "predicted_y_test =  model.predict(X_test_scaled)\n",
    "print(predicted_y_test)"
   ]
  },
  {
   "cell_type": "code",
   "execution_count": 104,
   "metadata": {},
   "outputs": [
    {
     "data": {
      "text/plain": [
       "array([[ 0.13311837, -0.00978853,  0.04623729, -0.03111569,  0.04845526],\n",
       "       [-0.54919622, -0.56475207, -0.13947266, -0.39644666, -0.29263298],\n",
       "       [-0.03638275, -0.69319018, -0.70763636, -0.44471998,  0.63912713],\n",
       "       ...,\n",
       "       [-1.0289866 , -0.31888968, -0.58442043, -0.10755146, -0.23581394],\n",
       "       [-0.7738081 , -0.34181591, -0.42508253, -0.03479518, -0.19281657],\n",
       "       [-2.11124287,  0.17051333, -1.76011727,  0.3619059 ,  0.06076165]])"
      ]
     },
     "execution_count": 104,
     "metadata": {},
     "output_type": "execute_result"
    }
   ],
   "source": [
    "X_test_scaled"
   ]
  },
  {
   "cell_type": "code",
   "execution_count": 105,
   "metadata": {},
   "outputs": [
    {
     "data": {
      "text/html": [
       "<div>\n",
       "<style scoped>\n",
       "    .dataframe tbody tr th:only-of-type {\n",
       "        vertical-align: middle;\n",
       "    }\n",
       "\n",
       "    .dataframe tbody tr th {\n",
       "        vertical-align: top;\n",
       "    }\n",
       "\n",
       "    .dataframe thead th {\n",
       "        text-align: right;\n",
       "    }\n",
       "</style>\n",
       "<table border=\"1\" class=\"dataframe\">\n",
       "  <thead>\n",
       "    <tr style=\"text-align: right;\">\n",
       "      <th></th>\n",
       "      <th>0</th>\n",
       "      <th>1</th>\n",
       "      <th>2</th>\n",
       "      <th>3</th>\n",
       "      <th>4</th>\n",
       "    </tr>\n",
       "    <tr>\n",
       "      <th>date</th>\n",
       "      <th></th>\n",
       "      <th></th>\n",
       "      <th></th>\n",
       "      <th></th>\n",
       "      <th></th>\n",
       "    </tr>\n",
       "  </thead>\n",
       "  <tbody>\n",
       "    <tr>\n",
       "      <th>2021-06-14 01:00:00</th>\n",
       "      <td>0.159904</td>\n",
       "      <td>0.248676</td>\n",
       "      <td>0.186597</td>\n",
       "      <td>0.240074</td>\n",
       "      <td>0.164748</td>\n",
       "    </tr>\n",
       "    <tr>\n",
       "      <th>2021-06-14 02:00:00</th>\n",
       "      <td>0.159332</td>\n",
       "      <td>0.190850</td>\n",
       "      <td>0.215651</td>\n",
       "      <td>0.244821</td>\n",
       "      <td>0.189346</td>\n",
       "    </tr>\n",
       "    <tr>\n",
       "      <th>2021-06-14 03:00:00</th>\n",
       "      <td>0.161647</td>\n",
       "      <td>0.205227</td>\n",
       "      <td>0.204695</td>\n",
       "      <td>0.242200</td>\n",
       "      <td>0.186232</td>\n",
       "    </tr>\n",
       "    <tr>\n",
       "      <th>2021-06-14 04:00:00</th>\n",
       "      <td>0.207615</td>\n",
       "      <td>0.236097</td>\n",
       "      <td>0.141559</td>\n",
       "      <td>0.203666</td>\n",
       "      <td>0.211063</td>\n",
       "    </tr>\n",
       "    <tr>\n",
       "      <th>2021-06-14 05:00:00</th>\n",
       "      <td>0.163804</td>\n",
       "      <td>0.247098</td>\n",
       "      <td>0.181844</td>\n",
       "      <td>0.237085</td>\n",
       "      <td>0.170169</td>\n",
       "    </tr>\n",
       "  </tbody>\n",
       "</table>\n",
       "</div>"
      ],
      "text/plain": [
       "                            0         1         2         3         4\n",
       "date                                                                 \n",
       "2021-06-14 01:00:00  0.159904  0.248676  0.186597  0.240074  0.164748\n",
       "2021-06-14 02:00:00  0.159332  0.190850  0.215651  0.244821  0.189346\n",
       "2021-06-14 03:00:00  0.161647  0.205227  0.204695  0.242200  0.186232\n",
       "2021-06-14 04:00:00  0.207615  0.236097  0.141559  0.203666  0.211063\n",
       "2021-06-14 05:00:00  0.163804  0.247098  0.181844  0.237085  0.170169"
      ]
     },
     "execution_count": 105,
     "metadata": {},
     "output_type": "execute_result"
    }
   ],
   "source": [
    "predicted_y_test_df = pd.DataFrame(predicted_y_test, index=X_test.index)\n",
    "predicted_y_test_df.head()"
   ]
  },
  {
   "cell_type": "code",
   "execution_count": 106,
   "metadata": {},
   "outputs": [
    {
     "data": {
      "text/html": [
       "<div>\n",
       "<style scoped>\n",
       "    .dataframe tbody tr th:only-of-type {\n",
       "        vertical-align: middle;\n",
       "    }\n",
       "\n",
       "    .dataframe tbody tr th {\n",
       "        vertical-align: top;\n",
       "    }\n",
       "\n",
       "    .dataframe thead th {\n",
       "        text-align: right;\n",
       "    }\n",
       "</style>\n",
       "<table border=\"1\" class=\"dataframe\">\n",
       "  <thead>\n",
       "    <tr style=\"text-align: right;\">\n",
       "      <th></th>\n",
       "      <th>-2</th>\n",
       "      <th>-1</th>\n",
       "      <th>0</th>\n",
       "      <th>1</th>\n",
       "      <th>2</th>\n",
       "    </tr>\n",
       "    <tr>\n",
       "      <th>date</th>\n",
       "      <th></th>\n",
       "      <th></th>\n",
       "      <th></th>\n",
       "      <th></th>\n",
       "      <th></th>\n",
       "    </tr>\n",
       "  </thead>\n",
       "  <tbody>\n",
       "    <tr>\n",
       "      <th>2021-06-14 01:00:00</th>\n",
       "      <td>0.159904</td>\n",
       "      <td>0.248676</td>\n",
       "      <td>0.186597</td>\n",
       "      <td>0.240074</td>\n",
       "      <td>0.164748</td>\n",
       "    </tr>\n",
       "    <tr>\n",
       "      <th>2021-06-14 02:00:00</th>\n",
       "      <td>0.159332</td>\n",
       "      <td>0.190850</td>\n",
       "      <td>0.215651</td>\n",
       "      <td>0.244821</td>\n",
       "      <td>0.189346</td>\n",
       "    </tr>\n",
       "    <tr>\n",
       "      <th>2021-06-14 03:00:00</th>\n",
       "      <td>0.161647</td>\n",
       "      <td>0.205227</td>\n",
       "      <td>0.204695</td>\n",
       "      <td>0.242200</td>\n",
       "      <td>0.186232</td>\n",
       "    </tr>\n",
       "    <tr>\n",
       "      <th>2021-06-14 04:00:00</th>\n",
       "      <td>0.207615</td>\n",
       "      <td>0.236097</td>\n",
       "      <td>0.141559</td>\n",
       "      <td>0.203666</td>\n",
       "      <td>0.211063</td>\n",
       "    </tr>\n",
       "    <tr>\n",
       "      <th>2021-06-14 05:00:00</th>\n",
       "      <td>0.163804</td>\n",
       "      <td>0.247098</td>\n",
       "      <td>0.181844</td>\n",
       "      <td>0.237085</td>\n",
       "      <td>0.170169</td>\n",
       "    </tr>\n",
       "  </tbody>\n",
       "</table>\n",
       "</div>"
      ],
      "text/plain": [
       "                           -2        -1         0         1         2\n",
       "date                                                                 \n",
       "2021-06-14 01:00:00  0.159904  0.248676  0.186597  0.240074  0.164748\n",
       "2021-06-14 02:00:00  0.159332  0.190850  0.215651  0.244821  0.189346\n",
       "2021-06-14 03:00:00  0.161647  0.205227  0.204695  0.242200  0.186232\n",
       "2021-06-14 04:00:00  0.207615  0.236097  0.141559  0.203666  0.211063\n",
       "2021-06-14 05:00:00  0.163804  0.247098  0.181844  0.237085  0.170169"
      ]
     },
     "execution_count": 106,
     "metadata": {},
     "output_type": "execute_result"
    }
   ],
   "source": [
    "predicted_y_test_df.columns=[\"-2\",\"-1\",\"0\",\"1\",\"2\"]\n",
    "predicted_y_test_df.head()"
   ]
  },
  {
   "cell_type": "code",
   "execution_count": 107,
   "metadata": {},
   "outputs": [
    {
     "data": {
      "text/html": [
       "<div>\n",
       "<style scoped>\n",
       "    .dataframe tbody tr th:only-of-type {\n",
       "        vertical-align: middle;\n",
       "    }\n",
       "\n",
       "    .dataframe tbody tr th {\n",
       "        vertical-align: top;\n",
       "    }\n",
       "\n",
       "    .dataframe thead th {\n",
       "        text-align: right;\n",
       "    }\n",
       "</style>\n",
       "<table border=\"1\" class=\"dataframe\">\n",
       "  <thead>\n",
       "    <tr style=\"text-align: right;\">\n",
       "      <th></th>\n",
       "      <th>-2</th>\n",
       "      <th>-1</th>\n",
       "      <th>0</th>\n",
       "      <th>1</th>\n",
       "      <th>2</th>\n",
       "    </tr>\n",
       "    <tr>\n",
       "      <th>date</th>\n",
       "      <th></th>\n",
       "      <th></th>\n",
       "      <th></th>\n",
       "      <th></th>\n",
       "      <th></th>\n",
       "    </tr>\n",
       "  </thead>\n",
       "  <tbody>\n",
       "    <tr>\n",
       "      <th>2021-06-14 01:00:00</th>\n",
       "      <td>0</td>\n",
       "      <td>1</td>\n",
       "      <td>0</td>\n",
       "      <td>0</td>\n",
       "      <td>0</td>\n",
       "    </tr>\n",
       "    <tr>\n",
       "      <th>2021-06-14 02:00:00</th>\n",
       "      <td>0</td>\n",
       "      <td>0</td>\n",
       "      <td>0</td>\n",
       "      <td>1</td>\n",
       "      <td>0</td>\n",
       "    </tr>\n",
       "    <tr>\n",
       "      <th>2021-06-14 03:00:00</th>\n",
       "      <td>0</td>\n",
       "      <td>0</td>\n",
       "      <td>0</td>\n",
       "      <td>1</td>\n",
       "      <td>0</td>\n",
       "    </tr>\n",
       "    <tr>\n",
       "      <th>2021-06-14 04:00:00</th>\n",
       "      <td>0</td>\n",
       "      <td>1</td>\n",
       "      <td>0</td>\n",
       "      <td>0</td>\n",
       "      <td>0</td>\n",
       "    </tr>\n",
       "    <tr>\n",
       "      <th>2021-06-14 05:00:00</th>\n",
       "      <td>0</td>\n",
       "      <td>1</td>\n",
       "      <td>0</td>\n",
       "      <td>0</td>\n",
       "      <td>0</td>\n",
       "    </tr>\n",
       "  </tbody>\n",
       "</table>\n",
       "</div>"
      ],
      "text/plain": [
       "                     -2  -1  0  1  2\n",
       "date                                \n",
       "2021-06-14 01:00:00   0   1  0  0  0\n",
       "2021-06-14 02:00:00   0   0  0  1  0\n",
       "2021-06-14 03:00:00   0   0  0  1  0\n",
       "2021-06-14 04:00:00   0   1  0  0  0\n",
       "2021-06-14 05:00:00   0   1  0  0  0"
      ]
     },
     "metadata": {},
     "output_type": "display_data"
    },
    {
     "data": {
      "text/plain": [
       "-2  -1  0  1  2\n",
       "0   0   0  1  0    2504\n",
       "           0  1    1383\n",
       "    1   0  0  0     947\n",
       "dtype: int64"
      ]
     },
     "metadata": {},
     "output_type": "display_data"
    }
   ],
   "source": [
    "m = np.zeros_like(predicted_y_test_df.values)\n",
    "m[np.arange(len(predicted_y_test_df)), predicted_y_test_df.values.argmax(1)] =1 \n",
    "df1 = pd.DataFrame(m, columns=predicted_y_test_df.columns,index=X_test.index).astype(int)\n",
    "display(df1.head(5))\n",
    "display(df1.value_counts())"
   ]
  },
  {
   "cell_type": "code",
   "execution_count": 108,
   "metadata": {},
   "outputs": [
    {
     "data": {
      "text/plain": [
       "-2  -1  0  1  2\n",
       "0   0   0  1  0    1197\n",
       "    1   0  0  0    1172\n",
       "    0   0  0  1     860\n",
       "1   0   0  0  0     851\n",
       "0   0   1  0  0     754\n",
       "dtype: int64"
      ]
     },
     "execution_count": 108,
     "metadata": {},
     "output_type": "execute_result"
    }
   ],
   "source": [
    "y_test.value_counts()"
   ]
  },
  {
   "cell_type": "code",
   "execution_count": 109,
   "metadata": {},
   "outputs": [
    {
     "name": "stdout",
     "output_type": "stream",
     "text": [
      "              precision    recall  f1-score   support\n",
      "\n",
      "           0       0.00      0.00      0.00       851\n",
      "           1       0.26      0.21      0.23      1172\n",
      "           2       0.00      0.00      0.00       754\n",
      "           3       0.27      0.56      0.36      1197\n",
      "           4       0.23      0.37      0.29       860\n",
      "\n",
      "   micro avg       0.26      0.26      0.26      4834\n",
      "   macro avg       0.15      0.23      0.18      4834\n",
      "weighted avg       0.17      0.26      0.20      4834\n",
      " samples avg       0.26      0.26      0.26      4834\n",
      "\n"
     ]
    },
    {
     "name": "stderr",
     "output_type": "stream",
     "text": [
      "C:\\Users\\Ling Zhou\\anaconda3\\envs\\main\\lib\\site-packages\\sklearn\\metrics\\_classification.py:1245: UndefinedMetricWarning: Precision and F-score are ill-defined and being set to 0.0 in labels with no predicted samples. Use `zero_division` parameter to control this behavior.\n",
      "  _warn_prf(average, modifier, msg_start, len(result))\n"
     ]
    }
   ],
   "source": [
    "\n",
    "#create classification report\n",
    "btc_testing_report = classification_report(y_test, df1)\n",
    "print(btc_testing_report)"
   ]
  },
  {
   "cell_type": "code",
   "execution_count": 110,
   "metadata": {},
   "outputs": [
    {
     "data": {
      "text/html": [
       "<div>\n",
       "<style scoped>\n",
       "    .dataframe tbody tr th:only-of-type {\n",
       "        vertical-align: middle;\n",
       "    }\n",
       "\n",
       "    .dataframe tbody tr th {\n",
       "        vertical-align: top;\n",
       "    }\n",
       "\n",
       "    .dataframe thead th {\n",
       "        text-align: right;\n",
       "    }\n",
       "</style>\n",
       "<table border=\"1\" class=\"dataframe\">\n",
       "  <thead>\n",
       "    <tr style=\"text-align: right;\">\n",
       "      <th></th>\n",
       "      <th>-2</th>\n",
       "      <th>-1</th>\n",
       "      <th>0</th>\n",
       "      <th>1</th>\n",
       "      <th>2</th>\n",
       "      <th>position</th>\n",
       "    </tr>\n",
       "    <tr>\n",
       "      <th>date</th>\n",
       "      <th></th>\n",
       "      <th></th>\n",
       "      <th></th>\n",
       "      <th></th>\n",
       "      <th></th>\n",
       "      <th></th>\n",
       "    </tr>\n",
       "  </thead>\n",
       "  <tbody>\n",
       "    <tr>\n",
       "      <th>2021-06-14 01:00:00</th>\n",
       "      <td>0</td>\n",
       "      <td>-1</td>\n",
       "      <td>0</td>\n",
       "      <td>0</td>\n",
       "      <td>0</td>\n",
       "      <td>-1</td>\n",
       "    </tr>\n",
       "    <tr>\n",
       "      <th>2021-06-14 02:00:00</th>\n",
       "      <td>0</td>\n",
       "      <td>0</td>\n",
       "      <td>0</td>\n",
       "      <td>1</td>\n",
       "      <td>0</td>\n",
       "      <td>1</td>\n",
       "    </tr>\n",
       "    <tr>\n",
       "      <th>2021-06-14 03:00:00</th>\n",
       "      <td>0</td>\n",
       "      <td>0</td>\n",
       "      <td>0</td>\n",
       "      <td>1</td>\n",
       "      <td>0</td>\n",
       "      <td>1</td>\n",
       "    </tr>\n",
       "    <tr>\n",
       "      <th>2021-06-14 04:00:00</th>\n",
       "      <td>0</td>\n",
       "      <td>-1</td>\n",
       "      <td>0</td>\n",
       "      <td>0</td>\n",
       "      <td>0</td>\n",
       "      <td>-1</td>\n",
       "    </tr>\n",
       "    <tr>\n",
       "      <th>2021-06-14 05:00:00</th>\n",
       "      <td>0</td>\n",
       "      <td>-1</td>\n",
       "      <td>0</td>\n",
       "      <td>0</td>\n",
       "      <td>0</td>\n",
       "      <td>-1</td>\n",
       "    </tr>\n",
       "    <tr>\n",
       "      <th>...</th>\n",
       "      <td>...</td>\n",
       "      <td>...</td>\n",
       "      <td>...</td>\n",
       "      <td>...</td>\n",
       "      <td>...</td>\n",
       "      <td>...</td>\n",
       "    </tr>\n",
       "    <tr>\n",
       "      <th>2021-12-31 15:00:00</th>\n",
       "      <td>0</td>\n",
       "      <td>0</td>\n",
       "      <td>0</td>\n",
       "      <td>1</td>\n",
       "      <td>0</td>\n",
       "      <td>1</td>\n",
       "    </tr>\n",
       "    <tr>\n",
       "      <th>2021-12-31 16:00:00</th>\n",
       "      <td>0</td>\n",
       "      <td>0</td>\n",
       "      <td>0</td>\n",
       "      <td>0</td>\n",
       "      <td>2</td>\n",
       "      <td>2</td>\n",
       "    </tr>\n",
       "    <tr>\n",
       "      <th>2021-12-31 17:00:00</th>\n",
       "      <td>0</td>\n",
       "      <td>0</td>\n",
       "      <td>0</td>\n",
       "      <td>0</td>\n",
       "      <td>2</td>\n",
       "      <td>2</td>\n",
       "    </tr>\n",
       "    <tr>\n",
       "      <th>2021-12-31 18:00:00</th>\n",
       "      <td>0</td>\n",
       "      <td>0</td>\n",
       "      <td>0</td>\n",
       "      <td>0</td>\n",
       "      <td>2</td>\n",
       "      <td>2</td>\n",
       "    </tr>\n",
       "    <tr>\n",
       "      <th>2021-12-31 19:00:00</th>\n",
       "      <td>0</td>\n",
       "      <td>0</td>\n",
       "      <td>0</td>\n",
       "      <td>0</td>\n",
       "      <td>2</td>\n",
       "      <td>2</td>\n",
       "    </tr>\n",
       "  </tbody>\n",
       "</table>\n",
       "<p>4834 rows × 6 columns</p>\n",
       "</div>"
      ],
      "text/plain": [
       "                     -2  -1  0  1  2  position\n",
       "date                                          \n",
       "2021-06-14 01:00:00   0  -1  0  0  0        -1\n",
       "2021-06-14 02:00:00   0   0  0  1  0         1\n",
       "2021-06-14 03:00:00   0   0  0  1  0         1\n",
       "2021-06-14 04:00:00   0  -1  0  0  0        -1\n",
       "2021-06-14 05:00:00   0  -1  0  0  0        -1\n",
       "...                  ..  .. .. .. ..       ...\n",
       "2021-12-31 15:00:00   0   0  0  1  0         1\n",
       "2021-12-31 16:00:00   0   0  0  0  2         2\n",
       "2021-12-31 17:00:00   0   0  0  0  2         2\n",
       "2021-12-31 18:00:00   0   0  0  0  2         2\n",
       "2021-12-31 19:00:00   0   0  0  0  2         2\n",
       "\n",
       "[4834 rows x 6 columns]"
      ]
     },
     "execution_count": 110,
     "metadata": {},
     "output_type": "execute_result"
    }
   ],
   "source": [
    "#convert the outsample trades the model chooses into a format of trade size + direction\n",
    "df2=df1.copy()\n",
    "scalar=list(df2.columns.values.astype(int))\n",
    "df2=df2*scalar\n",
    "df2[\"position\"]=df2.sum(axis=1)\n",
    "df2"
   ]
  },
  {
   "cell_type": "code",
   "execution_count": 111,
   "metadata": {},
   "outputs": [
    {
     "data": {
      "text/html": [
       "<div>\n",
       "<style scoped>\n",
       "    .dataframe tbody tr th:only-of-type {\n",
       "        vertical-align: middle;\n",
       "    }\n",
       "\n",
       "    .dataframe tbody tr th {\n",
       "        vertical-align: top;\n",
       "    }\n",
       "\n",
       "    .dataframe thead th {\n",
       "        text-align: right;\n",
       "    }\n",
       "</style>\n",
       "<table border=\"1\" class=\"dataframe\">\n",
       "  <thead>\n",
       "    <tr style=\"text-align: right;\">\n",
       "      <th></th>\n",
       "      <th>-2</th>\n",
       "      <th>-1</th>\n",
       "      <th>0</th>\n",
       "      <th>1</th>\n",
       "      <th>2</th>\n",
       "      <th>position</th>\n",
       "      <th>btc_close_pct</th>\n",
       "    </tr>\n",
       "    <tr>\n",
       "      <th>date</th>\n",
       "      <th></th>\n",
       "      <th></th>\n",
       "      <th></th>\n",
       "      <th></th>\n",
       "      <th></th>\n",
       "      <th></th>\n",
       "      <th></th>\n",
       "    </tr>\n",
       "  </thead>\n",
       "  <tbody>\n",
       "    <tr>\n",
       "      <th>2021-06-14 01:00:00</th>\n",
       "      <td>0</td>\n",
       "      <td>-1</td>\n",
       "      <td>0</td>\n",
       "      <td>0</td>\n",
       "      <td>0</td>\n",
       "      <td>-1</td>\n",
       "      <td>-0.005121</td>\n",
       "    </tr>\n",
       "    <tr>\n",
       "      <th>2021-06-14 02:00:00</th>\n",
       "      <td>0</td>\n",
       "      <td>0</td>\n",
       "      <td>0</td>\n",
       "      <td>1</td>\n",
       "      <td>0</td>\n",
       "      <td>1</td>\n",
       "      <td>-0.000169</td>\n",
       "    </tr>\n",
       "    <tr>\n",
       "      <th>2021-06-14 03:00:00</th>\n",
       "      <td>0</td>\n",
       "      <td>0</td>\n",
       "      <td>0</td>\n",
       "      <td>1</td>\n",
       "      <td>0</td>\n",
       "      <td>1</td>\n",
       "      <td>0.007632</td>\n",
       "    </tr>\n",
       "    <tr>\n",
       "      <th>2021-06-14 04:00:00</th>\n",
       "      <td>0</td>\n",
       "      <td>-1</td>\n",
       "      <td>0</td>\n",
       "      <td>0</td>\n",
       "      <td>0</td>\n",
       "      <td>-1</td>\n",
       "      <td>0.003675</td>\n",
       "    </tr>\n",
       "    <tr>\n",
       "      <th>2021-06-14 05:00:00</th>\n",
       "      <td>0</td>\n",
       "      <td>-1</td>\n",
       "      <td>0</td>\n",
       "      <td>0</td>\n",
       "      <td>0</td>\n",
       "      <td>-1</td>\n",
       "      <td>0.003954</td>\n",
       "    </tr>\n",
       "    <tr>\n",
       "      <th>...</th>\n",
       "      <td>...</td>\n",
       "      <td>...</td>\n",
       "      <td>...</td>\n",
       "      <td>...</td>\n",
       "      <td>...</td>\n",
       "      <td>...</td>\n",
       "      <td>...</td>\n",
       "    </tr>\n",
       "    <tr>\n",
       "      <th>2021-12-31 14:00:00</th>\n",
       "      <td>0</td>\n",
       "      <td>0</td>\n",
       "      <td>0</td>\n",
       "      <td>1</td>\n",
       "      <td>0</td>\n",
       "      <td>1</td>\n",
       "      <td>-0.000521</td>\n",
       "    </tr>\n",
       "    <tr>\n",
       "      <th>2021-12-31 15:00:00</th>\n",
       "      <td>0</td>\n",
       "      <td>0</td>\n",
       "      <td>0</td>\n",
       "      <td>1</td>\n",
       "      <td>0</td>\n",
       "      <td>1</td>\n",
       "      <td>-0.010490</td>\n",
       "    </tr>\n",
       "    <tr>\n",
       "      <th>2021-12-31 16:00:00</th>\n",
       "      <td>0</td>\n",
       "      <td>0</td>\n",
       "      <td>0</td>\n",
       "      <td>0</td>\n",
       "      <td>2</td>\n",
       "      <td>2</td>\n",
       "      <td>-0.009755</td>\n",
       "    </tr>\n",
       "    <tr>\n",
       "      <th>2021-12-31 17:00:00</th>\n",
       "      <td>0</td>\n",
       "      <td>0</td>\n",
       "      <td>0</td>\n",
       "      <td>0</td>\n",
       "      <td>2</td>\n",
       "      <td>2</td>\n",
       "      <td>-0.007290</td>\n",
       "    </tr>\n",
       "    <tr>\n",
       "      <th>2021-12-31 18:00:00</th>\n",
       "      <td>0</td>\n",
       "      <td>0</td>\n",
       "      <td>0</td>\n",
       "      <td>0</td>\n",
       "      <td>2</td>\n",
       "      <td>2</td>\n",
       "      <td>-0.020207</td>\n",
       "    </tr>\n",
       "  </tbody>\n",
       "</table>\n",
       "<p>5073 rows × 7 columns</p>\n",
       "</div>"
      ],
      "text/plain": [
       "                     -2  -1  0  1  2  position  btc_close_pct\n",
       "date                                                         \n",
       "2021-06-14 01:00:00   0  -1  0  0  0        -1      -0.005121\n",
       "2021-06-14 02:00:00   0   0  0  1  0         1      -0.000169\n",
       "2021-06-14 03:00:00   0   0  0  1  0         1       0.007632\n",
       "2021-06-14 04:00:00   0  -1  0  0  0        -1       0.003675\n",
       "2021-06-14 05:00:00   0  -1  0  0  0        -1       0.003954\n",
       "...                  ..  .. .. .. ..       ...            ...\n",
       "2021-12-31 14:00:00   0   0  0  1  0         1      -0.000521\n",
       "2021-12-31 15:00:00   0   0  0  1  0         1      -0.010490\n",
       "2021-12-31 16:00:00   0   0  0  0  2         2      -0.009755\n",
       "2021-12-31 17:00:00   0   0  0  0  2         2      -0.007290\n",
       "2021-12-31 18:00:00   0   0  0  0  2         2      -0.020207\n",
       "\n",
       "[5073 rows x 7 columns]"
      ]
     },
     "execution_count": 111,
     "metadata": {},
     "output_type": "execute_result"
    }
   ],
   "source": [
    "#over btc returns on trade size+position df\n",
    "df2=df2.join(z,how=\"inner\")\n",
    "df2=df2.dropna()\n",
    "df2"
   ]
  },
  {
   "cell_type": "code",
   "execution_count": 112,
   "metadata": {},
   "outputs": [],
   "source": [
    "#calculate P&L + transaction costs\n",
    "transaction= .000045\n",
    "df2[\"pnl\"]=df2[\"position\"]*df2[\"btc_close_pct\"] - transaction\n",
    "\n",
    "#lstm summary stats\n",
    "annualized_return=df2[\"pnl\"].mean()*24*365\n",
    "annualized_std=df2[\"pnl\"].std()*((24*365)**(.5))\n",
    "sharpe_ratio=annualized_return/annualized_std\n",
    "\n",
    "#BTC summary stats over our test period\n",
    "btc_annualized_return=df2[\"btc_close_pct\"].mean()*24*365\n",
    "btc_annualized_std=df2[\"btc_close_pct\"].std()*((24*365)**(.5))\n",
    "btc_sharpe_ratio=btc_annualized_return/btc_annualized_std\n",
    "\n",
    "\n"
   ]
  },
  {
   "cell_type": "code",
   "execution_count": 113,
   "metadata": {},
   "outputs": [
    {
     "name": "stdout",
     "output_type": "stream",
     "text": [
      "btc_close_pct\n",
      "btc_volume\n",
      "eth_close_pct\n",
      "eth_volume\n",
      "btc_eth_ratio_pct\n"
     ]
    }
   ],
   "source": [
    "#output variables used\n",
    "for col in new_df.columns:\n",
    "    print(col)"
   ]
  },
  {
   "cell_type": "code",
   "execution_count": 114,
   "metadata": {},
   "outputs": [
    {
     "name": "stdout",
     "output_type": "stream",
     "text": [
      "BTC Annualized Return: 51.696043%\n",
      "BTC Annualized Standard Deviation: 66.393471%\n",
      "BTC Sharpe Ratio: 0.7786314196077307\n",
      "LSTM Annualized Return: 110.846882%\n",
      "LSTM Annualized Standard Deviation: 100.453877%\n",
      "LSTM Sharpe Ratio: 1.1034604671881183\n"
     ]
    },
    {
     "data": {
      "image/png": "[encoded data removed]",
      "text/plain": [
       "<Figure size 432x288 with 1 Axes>"
      ]
     },
     "metadata": {
      "needs_background": "light"
     },
     "output_type": "display_data"
    }
   ],
   "source": [
    "#output lstm return/stdev/sharpe vs holding btc long\n",
    "\n",
    "df2[\"btc_return\"]=df2[\"btc_close_pct\"]\n",
    "df2[\"lstm_return\"]=df2[\"pnl\"]\n",
    "(1 + df2[[\"btc_return\",\"lstm_return\"]]).cumprod().plot(title=\"LSTM vs BTC Returns (simple, 4 inputs)\")\n",
    "\n",
    "print(\"BTC Annualized Return: {:%}\".format(btc_annualized_return))\n",
    "print(\"BTC Annualized Standard Deviation: {:%}\".format(btc_annualized_std))\n",
    "print(\"BTC Sharpe Ratio: {}\".format(btc_sharpe_ratio))\n",
    "\n",
    "print(\"LSTM Annualized Return: {:%}\".format(annualized_return))\n",
    "print(\"LSTM Annualized Standard Deviation: {:%}\".format(annualized_std))\n",
    "print(\"LSTM Sharpe Ratio: {}\".format(sharpe_ratio))"
   ]
  },
  {
   "cell_type": "code",
   "execution_count": 115,
   "metadata": {},
   "outputs": [
    {
     "data": {
      "text/plain": [
       "-2  -1  0  1  2\n",
       "0   0   0  1  0    2504\n",
       "           0  1    1383\n",
       "    1   0  0  0     947\n",
       "dtype: int64"
      ]
     },
     "execution_count": 115,
     "metadata": {},
     "output_type": "execute_result"
    }
   ],
   "source": [
    "#output frequency of each trade\n",
    "df1.value_counts()"
   ]
  },
  {
   "cell_type": "code",
   "execution_count": 116,
   "metadata": {},
   "outputs": [
    {
     "name": "stdout",
     "output_type": "stream",
     "text": [
      "Model: \"sequential_2\"\n",
      "_________________________________________________________________\n",
      " Layer (type)                Output Shape              Param #   \n",
      "=================================================================\n",
      " lstm_6 (LSTM)               (None, 5, 5)              140       \n",
      "                                                                 \n",
      " dropout_6 (Dropout)         (None, 5, 5)              0         \n",
      "                                                                 \n",
      " lstm_7 (LSTM)               (None, 5, 5)              220       \n",
      "                                                                 \n",
      " dropout_7 (Dropout)         (None, 5, 5)              0         \n",
      "                                                                 \n",
      " lstm_8 (LSTM)               (None, 5)                 220       \n",
      "                                                                 \n",
      " dropout_8 (Dropout)         (None, 5)                 0         \n",
      "                                                                 \n",
      " dense_2 (Dense)             (None, 5)                 30        \n",
      "                                                                 \n",
      "=================================================================\n",
      "Total params: 610\n",
      "Trainable params: 610\n",
      "Non-trainable params: 0\n",
      "_________________________________________________________________\n"
     ]
    }
   ],
   "source": [
    "#output model summary\n",
    "model.summary()"
   ]
  },
  {
   "cell_type": "code",
   "execution_count": 117,
   "metadata": {},
   "outputs": [
    {
     "name": "stdout",
     "output_type": "stream",
     "text": [
      "              precision    recall  f1-score   support\n",
      "\n",
      "           0       0.00      0.00      0.00       851\n",
      "           1       0.26      0.21      0.23      1172\n",
      "           2       0.00      0.00      0.00       754\n",
      "           3       0.27      0.56      0.36      1197\n",
      "           4       0.23      0.37      0.29       860\n",
      "\n",
      "   micro avg       0.26      0.26      0.26      4834\n",
      "   macro avg       0.15      0.23      0.18      4834\n",
      "weighted avg       0.17      0.26      0.20      4834\n",
      " samples avg       0.26      0.26      0.26      4834\n",
      "\n"
     ]
    }
   ],
   "source": [
    "#output precision metrics\n",
    "print(btc_testing_report)"
   ]
  }
 ],
 "metadata": {
  "interpreter": {
   "hash": "42245023e5b25b568a410eb699a6366217b403a2c30b13dec7369ff9f4dee5c5"
  },
  "kernelspec": {
   "display_name": "Python 3.7.10 64-bit ('main': conda)",
   "language": "python",
   "name": "python3"
  },
  "language_info": {
   "codemirror_mode": {
    "name": "ipython",
    "version": 3
   },
   "file_extension": ".py",
   "mimetype": "text/x-python",
   "name": "python",
   "nbconvert_exporter": "python",
   "pygments_lexer": "ipython3",
   "version": "3.7.10"
  },
  "orig_nbformat": 4
 },
 "nbformat": 4,
 "nbformat_minor": 2
}
